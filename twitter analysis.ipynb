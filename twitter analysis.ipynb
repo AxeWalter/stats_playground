{
 "cells": [
  {
   "cell_type": "code",
   "id": "initial_id",
   "metadata": {
    "collapsed": true,
    "ExecuteTime": {
     "end_time": "2025-02-27T20:27:19.014632Z",
     "start_time": "2025-02-27T20:27:17.750560Z"
    }
   },
   "source": [
    "import nltk\n",
    "import asyncio\n",
    "import pandas as pd\n",
    "import matplotlib.pyplot as plt\n",
    "import string\n",
    "import os\n",
    "from nltk.corpus import stopwords\n",
    "from twscrape import API, gather\n",
    "from csv import DictReader\n",
    "from wordcloud import WordCloud\n",
    "from dotenv import load_dotenv"
   ],
   "outputs": [],
   "execution_count": 3
  },
  {
   "metadata": {
    "ExecuteTime": {
     "end_time": "2025-02-27T20:27:20.575672Z",
     "start_time": "2025-02-27T20:27:20.390423Z"
    }
   },
   "cell_type": "code",
   "source": [
    "#Make sure the nltk sublibraries are installed\n",
    "\n",
    "nltk.download('stopwords')\n",
    "nltk.download('punkt')\n",
    "nltk.download('punkt_tab')\n",
    "nltk.download('vader_lexicon')"
   ],
   "id": "eb924057b8d27baa",
   "outputs": [
    {
     "name": "stderr",
     "output_type": "stream",
     "text": [
      "[nltk_data] Downloading package stopwords to\n",
      "[nltk_data]     C:\\Users\\Valter\\AppData\\Roaming\\nltk_data...\n",
      "[nltk_data]   Package stopwords is already up-to-date!\n",
      "[nltk_data] Downloading package punkt to\n",
      "[nltk_data]     C:\\Users\\Valter\\AppData\\Roaming\\nltk_data...\n",
      "[nltk_data]   Package punkt is already up-to-date!\n",
      "[nltk_data] Downloading package punkt_tab to\n",
      "[nltk_data]     C:\\Users\\Valter\\AppData\\Roaming\\nltk_data...\n",
      "[nltk_data]   Package punkt_tab is already up-to-date!\n",
      "[nltk_data] Downloading package vader_lexicon to\n",
      "[nltk_data]     C:\\Users\\Valter\\AppData\\Roaming\\nltk_data...\n",
      "[nltk_data]   Package vader_lexicon is already up-to-date!\n"
     ]
    },
    {
     "data": {
      "text/plain": [
       "True"
      ]
     },
     "execution_count": 4,
     "metadata": {},
     "output_type": "execute_result"
    }
   ],
   "execution_count": 4
  },
  {
   "metadata": {
    "ExecuteTime": {
     "end_time": "2025-02-27T20:27:22.591619Z",
     "start_time": "2025-02-27T20:27:22.587305Z"
    }
   },
   "cell_type": "code",
   "source": [
    "load_dotenv()\n",
    "\n",
    "tt_username1 = os.getenv(\"TT_USERNAME1\")\n",
    "tt_password1 = os.getenv(\"TT_PASSWORD1\")\n",
    "email1 = os.getenv(\"EMAIL1\")\n",
    "email_password1 = os.getenv(\"EMAIL_PASSWORD1\")\n",
    "\n",
    "tt_username2 = os.getenv(\"TT_USERNAME2\")\n",
    "tt_password2 = os.getenv(\"TT_PASSWORD2\")\n",
    "email2 = os.getenv(\"EMAIL2\")\n",
    "email_password2 = os.getenv(\"EMAIL_PASSWORD2\")\n",
    "\n",
    "tt_username3 = os.getenv(\"TT_USERNAME3\")\n",
    "tt_password3 = os.getenv(\"TT_PASSWORD3\")\n",
    "email3 = os.getenv(\"EMAIL3\")\n",
    "email_password3 = os.getenv(\"EMAIL_PASSWORD3\")"
   ],
   "id": "3956910b27b856aa",
   "outputs": [],
   "execution_count": 5
  },
  {
   "metadata": {
    "ExecuteTime": {
     "end_time": "2025-02-24T20:16:47.608882Z",
     "start_time": "2025-02-24T20:16:47.605934Z"
    }
   },
   "cell_type": "code",
   "source": [
    "#Connect the accounts to twitter\n",
    "async def main():\n",
    "    api = API()\n",
    "\n",
    "    # For the infamous ct0 not in cookies (most likely ip ban) https://github.com/vladkens/twscrape/issues/214\n",
    "    await api.pool.add_account(tt_username1, tt_password1, email1, email_password1)\n",
    "\n",
    "    await api.pool.add_account(tt_username2, tt_password2, email2, email_password2)\n",
    "\n",
    "    await api.pool.add_account(tt_username3, tt_password3, email3, email_password3)\n",
    "    await api.pool.login_all()\n",
    "    "
   ],
   "id": "1d72157d39e405b2",
   "outputs": [],
   "execution_count": 4
  },
  {
   "metadata": {
    "ExecuteTime": {
     "end_time": "2025-02-24T20:16:50.038174Z",
     "start_time": "2025-02-24T20:16:50.028696Z"
    }
   },
   "cell_type": "code",
   "source": "asyncio.run(main())",
   "id": "6a0ec19fc545b98d",
   "outputs": [
    {
     "name": "stderr",
     "output_type": "stream",
     "text": [
      "\u001B[32m2025-02-24 17:16:50.031\u001B[0m | \u001B[33m\u001B[1mWARNING \u001B[0m | \u001B[36mtwscrape.accounts_pool\u001B[0m:\u001B[36madd_account\u001B[0m:\u001B[36m88\u001B[0m - \u001B[33m\u001B[1mAccount @ShungiteMercha1 already exists\u001B[0m\n",
      "\u001B[32m2025-02-24 17:16:50.033\u001B[0m | \u001B[33m\u001B[1mWARNING \u001B[0m | \u001B[36mtwscrape.accounts_pool\u001B[0m:\u001B[36madd_account\u001B[0m:\u001B[36m88\u001B[0m - \u001B[33m\u001B[1mAccount @shungitedealer1 already exists\u001B[0m\n",
      "\u001B[32m2025-02-24 17:16:50.035\u001B[0m | \u001B[33m\u001B[1mWARNING \u001B[0m | \u001B[36mtwscrape.accounts_pool\u001B[0m:\u001B[36madd_account\u001B[0m:\u001B[36m88\u001B[0m - \u001B[33m\u001B[1mAccount @shungiteseller1 already exists\u001B[0m\n"
     ]
    }
   ],
   "execution_count": 5
  },
  {
   "metadata": {
    "ExecuteTime": {
     "end_time": "2025-02-24T20:26:31.181529Z",
     "start_time": "2025-02-24T20:26:31.178558Z"
    }
   },
   "cell_type": "code",
   "source": [
    "#This is a dirty scrape function. I'm not treating anything, just grabbing information and putting in a dictionary with some useless info, like ID.\n",
    "\n",
    "async def dirty_scrape():\n",
    "    api = API()\n",
    "\n",
    "    tweets_data = []\n",
    "    index = 1\n",
    "    \n",
    "    #Set the words/sentence i want to scrape for. I can also set the language with lang:pt.\n",
    "    text_search = \"rony:pt\"\n",
    "    #Setting the limit of tweets to scrape. For some reason this is not accurate. It always scrapes more than this.\n",
    "    limit = 20\n",
    "    \n",
    "    async for tweet in api.search(text_search, limit):\n",
    "        tweets_data.append({\n",
    "            \"id\": index,\n",
    "            \"Username\": tweet.user.username,\n",
    "            \"Date\": tweet.date,\n",
    "            \"Text\": tweet.rawContent\n",
    "        })\n",
    "        index += 1\n",
    "\n",
    "    df = pd.DataFrame(tweets_data)\n",
    "    df.head()\n",
    "    #Change the name of the csv you want to create\n",
    "    csv_name = \"teste.csv\"\n",
    "    df.to_csv(csv_name, index=False)"
   ],
   "id": "65bb9b1ef4f26e7a",
   "outputs": [],
   "execution_count": 15
  },
  {
   "metadata": {
    "ExecuteTime": {
     "end_time": "2025-02-24T20:26:34.596046Z",
     "start_time": "2025-02-24T20:26:33.787809Z"
    }
   },
   "cell_type": "code",
   "source": "await dirty_scrape()",
   "id": "e661f08ec89a9b9b",
   "outputs": [],
   "execution_count": 16
  },
  {
   "metadata": {
    "ExecuteTime": {
     "end_time": "2025-02-24T20:43:07.008313Z",
     "start_time": "2025-02-24T20:43:07.005504Z"
    }
   },
   "cell_type": "code",
   "source": [
    "async def user_scrape():\n",
    "    api = API()\n",
    "    \n",
    "    tweets_data = []\n",
    "    \n",
    "    #For ids = https://ilo.so/twitter-id/\n",
    "    id = 459626464\n",
    "    data = await gather(api. user_tweets(id, limit = 20)) \n",
    "    print(data)\n",
    "    \n",
    "    \n",
    "    "
   ],
   "id": "4f511cb962697d65",
   "outputs": [],
   "execution_count": 36
  },
  {
   "metadata": {},
   "cell_type": "code",
   "source": "await user_scrape()",
   "id": "7d4d7b3ba5ab411c",
   "outputs": [],
   "execution_count": null
  },
  {
   "metadata": {},
   "cell_type": "code",
   "outputs": [],
   "execution_count": null,
   "source": [
    "# Puxar função de importar csv\n",
    "# Puxar função de limpar dados\n",
    "# Puxar função de análises"
   ],
   "id": "ab48b30eee4a02ca"
  },
  {
   "metadata": {
    "ExecuteTime": {
     "end_time": "2025-02-27T20:27:30.191410Z",
     "start_time": "2025-02-27T20:27:30.188066Z"
    }
   },
   "cell_type": "code",
   "source": [
    "def importar_csv(caminho, palavra_chave, usuarios_excluir):\n",
    "    dados = []\n",
    "    try:\n",
    "        with open(caminho, 'r', newline='', encoding='utf-8') as arquivo_csv:\n",
    "            leitor = DictReader(arquivo_csv)\n",
    "            for linha in leitor:\n",
    "                if (palavra_chave.lower() in linha[\"Text\"].lower() and\n",
    "                        not any(usuario.lower() in linha[\"Username\"].lower() or\n",
    "                                usuario.lower() in linha[\"Text\"].lower()\n",
    "                                for usuario in usuarios_excluir)):\n",
    "                    dados.append(linha)\n",
    "\n",
    "    except FileNotFoundError:\n",
    "        print(f\"Erro: nenhum arquivo foi encontrado no caminho {caminho}\")\n",
    "        return None\n",
    "\n",
    "    df = pd.DataFrame(dados)\n",
    "\n",
    "    return df"
   ],
   "id": "167eea593e949c46",
   "outputs": [],
   "execution_count": 6
  },
  {
   "metadata": {
    "ExecuteTime": {
     "end_time": "2025-02-27T20:29:25.574995Z",
     "start_time": "2025-02-27T20:29:25.517085Z"
    }
   },
   "cell_type": "code",
   "source": [
    "dados = importar_csv(r\"C:\\Users\\Valter\\PycharmProjects\\Projects\\work_codes\\tweets_rony3.csv\", \"rony\", (\"@rony_locher\", \"@rony_claudino\"))\n",
    "display(dados.head())"
   ],
   "id": "b76d00a3edfcd83e",
   "outputs": [
    {
     "data": {
      "text/plain": [
       "   id         Username                       Date  \\\n",
       "0   1         itatiaia  2025-02-21 20:40:16+00:00   \n",
       "1   7           sportv  2025-02-21 20:34:24+00:00   \n",
       "2   9       raphalorca  2025-02-21 20:32:08+00:00   \n",
       "3  10  FumanteCachorro  2025-02-21 20:30:23+00:00   \n",
       "4  11  FumanteCachorro  2025-02-21 20:30:17+00:00   \n",
       "\n",
       "                                                Text  \n",
       "0  Rony ressalta alívio após primeiro gol marcado...  \n",
       "1  Rony comenta procura do Vasco em meio a acerto...  \n",
       "2  @RaulOficial_ Sim, alguém tem que ocupar o lug...  \n",
       "3  @guiaugusto11k Ele se jogando em todo chute ig...  \n",
       "4  Ele se jogando em todo chute igual o rony faz ...  "
      ],
      "text/html": [
       "<div>\n",
       "<style scoped>\n",
       "    .dataframe tbody tr th:only-of-type {\n",
       "        vertical-align: middle;\n",
       "    }\n",
       "\n",
       "    .dataframe tbody tr th {\n",
       "        vertical-align: top;\n",
       "    }\n",
       "\n",
       "    .dataframe thead th {\n",
       "        text-align: right;\n",
       "    }\n",
       "</style>\n",
       "<table border=\"1\" class=\"dataframe\">\n",
       "  <thead>\n",
       "    <tr style=\"text-align: right;\">\n",
       "      <th></th>\n",
       "      <th>id</th>\n",
       "      <th>Username</th>\n",
       "      <th>Date</th>\n",
       "      <th>Text</th>\n",
       "    </tr>\n",
       "  </thead>\n",
       "  <tbody>\n",
       "    <tr>\n",
       "      <th>0</th>\n",
       "      <td>1</td>\n",
       "      <td>itatiaia</td>\n",
       "      <td>2025-02-21 20:40:16+00:00</td>\n",
       "      <td>Rony ressalta alívio após primeiro gol marcado...</td>\n",
       "    </tr>\n",
       "    <tr>\n",
       "      <th>1</th>\n",
       "      <td>7</td>\n",
       "      <td>sportv</td>\n",
       "      <td>2025-02-21 20:34:24+00:00</td>\n",
       "      <td>Rony comenta procura do Vasco em meio a acerto...</td>\n",
       "    </tr>\n",
       "    <tr>\n",
       "      <th>2</th>\n",
       "      <td>9</td>\n",
       "      <td>raphalorca</td>\n",
       "      <td>2025-02-21 20:32:08+00:00</td>\n",
       "      <td>@RaulOficial_ Sim, alguém tem que ocupar o lug...</td>\n",
       "    </tr>\n",
       "    <tr>\n",
       "      <th>3</th>\n",
       "      <td>10</td>\n",
       "      <td>FumanteCachorro</td>\n",
       "      <td>2025-02-21 20:30:23+00:00</td>\n",
       "      <td>@guiaugusto11k Ele se jogando em todo chute ig...</td>\n",
       "    </tr>\n",
       "    <tr>\n",
       "      <th>4</th>\n",
       "      <td>11</td>\n",
       "      <td>FumanteCachorro</td>\n",
       "      <td>2025-02-21 20:30:17+00:00</td>\n",
       "      <td>Ele se jogando em todo chute igual o rony faz ...</td>\n",
       "    </tr>\n",
       "  </tbody>\n",
       "</table>\n",
       "</div>"
      ]
     },
     "metadata": {},
     "output_type": "display_data"
    }
   ],
   "execution_count": 8
  },
  {
   "metadata": {},
   "cell_type": "code",
   "outputs": [],
   "execution_count": null,
   "source": "",
   "id": "8b5202820842be08"
  }
 ],
 "metadata": {
  "kernelspec": {
   "display_name": "Python 3",
   "language": "python",
   "name": "python3"
  },
  "language_info": {
   "codemirror_mode": {
    "name": "ipython",
    "version": 2
   },
   "file_extension": ".py",
   "mimetype": "text/x-python",
   "name": "python",
   "nbconvert_exporter": "python",
   "pygments_lexer": "ipython2",
   "version": "2.7.6"
  }
 },
 "nbformat": 4,
 "nbformat_minor": 5
}
